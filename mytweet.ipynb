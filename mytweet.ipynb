{
 "cells": [
  {
   "cell_type": "code",
   "execution_count": null,
   "metadata": {
    "collapsed": true
   },
   "outputs": [],
   "source": [
    "# import module\n",
    "import re\n",
    "import csv\n",
    "import time\n",
    "import pandas as pd\n",
    "import matplotlib.pyplot as plt\n",
    "import MeCab\n",
    "import random\n",
    "import numpy as np\n",
    "\n",
    "# read tweets.csv (downloaded by twitter.com)\n",
    "tw_df = pd.read_csv('./mytweetdata/tweets.csv', encoding='utf-8')\n",
    "\n",
    "# read PN Table (downloaded by http://www.lr.pi.titech.ac.jp/~takamura/pndic_ja.html)\n",
    "pn_df = pd.read_csv('./pn_ja.dic.txt', sep=':', encoding='shift-jis', names=('Word','Reading','POS', 'PN'))"
   ]
  },
  {
   "cell_type": "code",
   "execution_count": null,
   "metadata": {
    "collapsed": true
   },
   "outputs": [],
   "source": [
    "# remove new lines from body text\n",
    "text_list = list(tw_df['text'])\n",
    "for i in range(len(text_list)):\n",
    "    text_list[i] = text_list[i].replace('\\n', ' ')"
   ]
  },
  {
   "cell_type": "code",
   "execution_count": null,
   "metadata": {
    "collapsed": true
   },
   "outputs": [],
   "source": [
    "# make MeCab instance\n",
    "m = MeCab.Tagger('')\n",
    "\n",
    "# -----A function that morphologically analyzes text and returns a list of dictionaries---- #\n",
    "def get_diclist(text):\n",
    "    parsed = m.parse(text)      # Morphological analysis result (obtained as a character string including newline)\n",
    "    lines = parsed.split('\\n')  # Divide the analysis results by line (one word) into a list\n",
    "    lines = lines[0:-2]         # The last two lines are unnecessary so delete\n",
    "    diclist = []\n",
    "    for word in lines:\n",
    "        l = re.split('\\t|,',word)  # Each line is separated by a tab and a comma\n",
    "        d = {'Surface':l[0], 'POS1':l[1], 'POS2':l[2], 'BaseForm':l[7]}\n",
    "        diclist.append(d)\n",
    "    return(diclist)"
   ]
  },
  {
   "cell_type": "code",
   "execution_count": null,
   "metadata": {
    "collapsed": true
   },
   "outputs": [],
   "source": [
    "# Convert PN Table from data frame to dict type\n",
    "word_list = list(pn_df['Word'])\n",
    "pn_list = list(pn_df['PN'])  # the type is numpy.float64\n",
    "pn_dict = dict(zip(word_list, pn_list))\n",
    "\n",
    "\n",
    "# Function to add PN value to dict data for each word of morpheme analysis result\n",
    "def add_pnvalue(diclist_old):\n",
    "    diclist_new = []\n",
    "    for word in diclist_old:\n",
    "        base = word['BaseForm']        # Get basic form from individual dictionary\n",
    "        if base in pn_dict:\n",
    "            pn = float(pn_dict[base]) \n",
    "        else:\n",
    "            pn = 'notfound'            # If the word is not in the PN Table\n",
    "        word['PN'] = pn\n",
    "        diclist_new.append(word)\n",
    "    return(diclist_new)"
   ]
  },
  {
   "cell_type": "code",
   "execution_count": null,
   "metadata": {
    "collapsed": true
   },
   "outputs": [],
   "source": [
    "# A function that takes PN average value of each tweet\n",
    "def get_pnmean(diclist):\n",
    "    pn_list = []\n",
    "    for word in diclist:\n",
    "        pn = word['PN']\n",
    "        if pn != 'notfound':\n",
    "            pn_list.append(pn)  # If it is notfound it will not add it            \n",
    "    if len(pn_list) > 0:        \n",
    "        pnmean = np.mean(pn_list)\n",
    "    else:\n",
    "        pnmean = 0              \n",
    "    return(pnmean)"
   ]
  },
  {
   "cell_type": "code",
   "execution_count": null,
   "metadata": {
    "collapsed": true
   },
   "outputs": [],
   "source": [
    "# Create a list of pn values\n",
    "pnmeans_list = []\n",
    "for tw in tw_df['text']:\n",
    "    dl_old = get_diclist(tw)\n",
    "    dl_new = add_pnvalue(dl_old)\n",
    "    pnmean = get_pnmean(dl_new)\n",
    "    pnmeans_list.append(pnmean)"
   ]
  },
  {
   "cell_type": "code",
   "execution_count": null,
   "metadata": {
    "collapsed": true
   },
   "outputs": [],
   "source": [
    "# Create data frame storing tweet ID, body, PN value\n",
    "aura_df = pd.DataFrame({'tweet_id':tw_df['tweet_id'],\n",
    "                        'text':text_list,\n",
    "                        'PN':pnmeans_list,\n",
    "                       },\n",
    "                       columns=['tweet_id', 'text', 'PN']\n",
    "                      )\n",
    "\n",
    "# Sort in ascending order of PN values\n",
    "aura_df = aura_df.sort_values(by='PN', ascending=True)\n",
    "\n",
    "# Output CSV (Shift-JIS should be specified instead of UTF 8 if you want to use Excel)\n",
    "aura_df.to_csv('aura.csv',\\\n",
    "                index=None,\\\n",
    "                encoding='utf-8',\\\n",
    "                quoting=csv.QUOTE_NONNUMERIC\\\n",
    "               )"
   ]
  },
  {
   "cell_type": "code",
   "execution_count": null,
   "metadata": {
    "collapsed": true
   },
   "outputs": [],
   "source": [
    "# read aura.csv\n",
    "show_aura = pd.read_csv('./aura.csv', encoding='utf-8')"
   ]
  },
  {
   "cell_type": "code",
   "execution_count": null,
   "metadata": {
    "scrolled": false
   },
   "outputs": [],
   "source": [
    "show_aura"
   ]
  },
  {
   "cell_type": "code",
   "execution_count": null,
   "metadata": {
    "collapsed": true
   },
   "outputs": [],
   "source": []
  }
 ],
 "metadata": {
  "kernelspec": {
   "display_name": "Python 3",
   "language": "python",
   "name": "python3"
  },
  "language_info": {
   "codemirror_mode": {
    "name": "ipython",
    "version": 3
   },
   "file_extension": ".py",
   "mimetype": "text/x-python",
   "name": "python",
   "nbconvert_exporter": "python",
   "pygments_lexer": "ipython3",
   "version": "3.6.1"
  }
 },
 "nbformat": 4,
 "nbformat_minor": 2
}
